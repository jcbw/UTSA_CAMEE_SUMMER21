{
 "cells": [
  {
   "cell_type": "markdown",
   "metadata": {},
   "source": [
    "# <div align=\"center\"> <span style=\"color:black\">Professional Development Workshop on Extreme Environments</span>\n",
    "<img align=\"left\" width=\"400\" height=\"400\" src=\"UTSA.png\" alt=\"UTSA\"> <img align=\"right\" width=\"400\" height=\"400\" src=\"CAMEE_LOGO.png\"> "
   ]
  },
  {
   "cell_type": "markdown",
   "metadata": {},
   "source": [
    "### <div align=\"center\"> **Sea Ice & Deep Sea Currents**\n",
    "<div align=\"center\"> June 22, 2021; 1:00 pm - 4:00 pm\n",
    "<div align=\"center\"> Instructors: Dr. Stephen Ackley and Dr. Hongjie Xie\n",
    "<div align=\"center\"> Assistant: Jullian Williams\n",
    "    \n",
    "***"
   ]
  },
  {
   "cell_type": "markdown",
   "metadata": {},
   "source": [
    "### Introduction & data resources"
   ]
  },
  {
   "cell_type": "markdown",
   "metadata": {},
   "source": [
    "This notebook was created for the CAMEE professional development workshop on extreme environements, dated June 21-22, 2021. This notebook references the Polartrec Sea ice and deep sea currents information: https://www.polartrec.com/resources/lesson/sea-ice-and-deep-sea-currents. The documentation following the full lession plan is found here: https://www.polartrec.com/files/resources/lesson/43376/docs/full_lesson_sea_ice_and_deep_sea_currents.pdf and lesson materials located here: https://www.polartrec.com/files/resources/lesson/43376/docs/lesson_materials.pdf. This exercise strives to demonstrate the use of ice core data to examine and quantify changes in salinity with depth in Polar sea systems.  "
   ]
  },
  {
   "cell_type": "markdown",
   "metadata": {},
   "source": [
    "### Basic python packages"
   ]
  },
  {
   "cell_type": "markdown",
   "metadata": {},
   "source": [
    "Standard python packages in a base/root environment are called by \"import\" and renamed for code efficiency using \"as\". Numpy and pandas are the building blocks of python data management. Matplotlib is a base package for plotting/graphing data. Links to the python documentations are here:\n",
    "> * https://pandas.pydata.org/pandas-docs/stable/user_guide/index.html#user-guide\n",
    "> * https://numpy.org/doc/stable/numpy-user.pdf\n",
    "> * https://matplotlib.org/stable/users/index.html"
   ]
  },
  {
   "cell_type": "code",
   "execution_count": 6,
   "metadata": {},
   "outputs": [],
   "source": [
    "#Here we import the packages necessary to import our data\n",
    "import numpy as np\n",
    "import pandas as pd\n",
    "import matplotlib.pyplot as plt"
   ]
  },
  {
   "cell_type": "markdown",
   "metadata": {},
   "source": [
    "### Data exploration "
   ]
  },
  {
   "cell_type": "code",
   "execution_count": 7,
   "metadata": {},
   "outputs": [],
   "source": [
    "#Using pandas to import data\n",
    "site2 = pd.read_csv('C:/Users/vvy591/Desktop/TA_CAMEE_SUM21/site_2.csv')\n",
    "site5 = pd.read_csv('C:/Users/vvy591/Desktop/TA_CAMEE_SUM21/site_5.csv')"
   ]
  },
  {
   "cell_type": "markdown",
   "metadata": {},
   "source": [
    "> **Using numpy**: Numpy is a useful package for basic math/statistical procedures. It is also useful in requesting specific information about the data (data information, type, size, etc.) The function 'head' displays the headers for the data with the first 'x' number of entries requested."
   ]
  },
  {
   "cell_type": "code",
   "execution_count": 8,
   "metadata": {},
   "outputs": [
    {
     "data": {
      "text/html": [
       "<div>\n",
       "<style scoped>\n",
       "    .dataframe tbody tr th:only-of-type {\n",
       "        vertical-align: middle;\n",
       "    }\n",
       "\n",
       "    .dataframe tbody tr th {\n",
       "        vertical-align: top;\n",
       "    }\n",
       "\n",
       "    .dataframe thead th {\n",
       "        text-align: right;\n",
       "    }\n",
       "</style>\n",
       "<table border=\"1\" class=\"dataframe\">\n",
       "  <thead>\n",
       "    <tr style=\"text-align: right;\">\n",
       "      <th></th>\n",
       "      <th>depth_cm</th>\n",
       "      <th>degree_c</th>\n",
       "    </tr>\n",
       "  </thead>\n",
       "  <tbody>\n",
       "    <tr>\n",
       "      <th>0</th>\n",
       "      <td>10</td>\n",
       "      <td>-10.3</td>\n",
       "    </tr>\n",
       "    <tr>\n",
       "      <th>1</th>\n",
       "      <td>20</td>\n",
       "      <td>-9.7</td>\n",
       "    </tr>\n",
       "  </tbody>\n",
       "</table>\n",
       "</div>"
      ],
      "text/plain": [
       "   depth_cm  degree_c\n",
       "0        10     -10.3\n",
       "1        20      -9.7"
      ]
     },
     "execution_count": 8,
     "metadata": {},
     "output_type": "execute_result"
    }
   ],
   "source": [
    "site2.head(2)"
   ]
  },
  {
   "cell_type": "code",
   "execution_count": 9,
   "metadata": {},
   "outputs": [
    {
     "name": "stdout",
     "output_type": "stream",
     "text": [
      "<class 'pandas.core.frame.DataFrame'>\n",
      "RangeIndex: 21 entries, 0 to 20\n",
      "Data columns (total 2 columns):\n",
      " #   Column    Non-Null Count  Dtype  \n",
      "---  ------    --------------  -----  \n",
      " 0   depth_cm  21 non-null     int64  \n",
      " 1   degree_c  21 non-null     float64\n",
      "dtypes: float64(1), int64(1)\n",
      "memory usage: 464.0 bytes\n"
     ]
    }
   ],
   "source": [
    "site5.info()"
   ]
  },
  {
   "cell_type": "code",
   "execution_count": 10,
   "metadata": {},
   "outputs": [
    {
     "name": "stdout",
     "output_type": "stream",
     "text": [
      "    depth_cm  degree_c\n",
      "0         10     -10.3\n",
      "1         20      -9.7\n",
      "2         30      -9.4\n",
      "3         40      -9.1\n",
      "4         50      -8.8\n",
      "5         60      -8.6\n",
      "6         70      -8.0\n",
      "7         80       0.0\n",
      "8         90      -7.5\n",
      "9        100      -7.5\n",
      "10       110       0.0\n",
      "11       120      -5.2\n",
      "12       130      -5.0\n",
      "13       140      -4.6\n",
      "14       150      -4.3\n",
      "15       160      -3.9\n",
      "16       170       0.0\n",
      "17       180      -3.3\n",
      "18       190      -2.7\n",
      "19       200      -2.2\n"
     ]
    }
   ],
   "source": [
    "#Printing displays full data array\n",
    "print(site2)"
   ]
  },
  {
   "cell_type": "markdown",
   "metadata": {},
   "source": [
    "> After loading our data, we can now use the information to plot our profiles. Here, we plot the temperature-depth profiles for Site 2&5. As expected, we see a change in the temperature with increasing depth. "
   ]
  },
  {
   "cell_type": "code",
   "execution_count": 11,
   "metadata": {},
   "outputs": [
    {
     "data": {
      "image/png": "[encoded data removed]",
      "text/plain": [
       "<Figure size 720x360 with 1 Axes>"
      ]
     },
     "metadata": {
      "needs_background": "light"
     },
     "output_type": "display_data"
    }
   ],
   "source": [
    "plt.figure(figsize=(10,5))\n",
    "plt.plot(site2.degree_c,site2.depth_cm,'k--', label = 'Site 2', alpha = 0.60)\n",
    "plt.plot(site5.degree_c,site5.depth_cm,'m--', label = 'Site 5', alpha = 0.70)\n",
    "plt.ylabel('Depth/(cm)')\n",
    "plt.xlabel('Temperature/($^\\circ$C)')\n",
    "plt.ylim(max(site5['depth_cm']), min(site5['depth_cm']))\n",
    "plt.legend(loc='best')\n",
    "plt.show()"
   ]
  },
  {
   "cell_type": "markdown",
   "metadata": {},
   "source": [
    "Next, we import the core data for each site. "
   ]
  },
  {
   "cell_type": "code",
   "execution_count": 12,
   "metadata": {},
   "outputs": [],
   "source": [
    "s2c1 = pd.read_csv('C:/Users/vvy591/Desktop/TA_CAMEE_SUM21/Site_2_Core_1.csv')\n",
    "s4c1 = pd.read_csv('C:/Users/vvy591/Desktop/TA_CAMEE_SUM21/Site_4_Core_1.csv')\n",
    "s4c2 = pd.read_csv('C:/Users/vvy591/Desktop/TA_CAMEE_SUM21/Site_4_Core_2.csv')\n",
    "s7c1 = pd.read_csv('C:/Users/vvy591/Desktop/TA_CAMEE_SUM21/Site_7_Core_1.csv')\n",
    "s22c1 = pd.read_csv('C:/Users/vvy591/Desktop/TA_CAMEE_SUM21/Site_22_Core_1.csv')\n",
    "s23c1 = pd.read_csv('C:/Users/vvy591/Desktop/TA_CAMEE_SUM21/Site_23_Core_1.csv')\n",
    "s23c3 = pd.read_csv('C:/Users/vvy591/Desktop/TA_CAMEE_SUM21/Site_23_Core_3.csv')"
   ]
  },
  {
   "cell_type": "code",
   "execution_count": 13,
   "metadata": {},
   "outputs": [
    {
     "name": "stdout",
     "output_type": "stream",
     "text": [
      "<class 'pandas.core.frame.DataFrame'>\n",
      "RangeIndex: 20 entries, 0 to 19\n",
      "Data columns (total 2 columns):\n",
      " #   Column        Non-Null Count  Dtype  \n",
      "---  ------        --------------  -----  \n",
      " 0   depth_cm      20 non-null     int64  \n",
      " 1   salinity_ppt  20 non-null     float64\n",
      "dtypes: float64(1), int64(1)\n",
      "memory usage: 448.0 bytes\n"
     ]
    }
   ],
   "source": [
    "s2c1.info() #It is good practice to view the information about the data being used."
   ]
  },
  {
   "cell_type": "code",
   "execution_count": 14,
   "metadata": {},
   "outputs": [
    {
     "data": {
      "text/plain": [
       "40"
      ]
     },
     "execution_count": 14,
     "metadata": {},
     "output_type": "execute_result"
    }
   ],
   "source": [
    "np.size(s2c1) #20 entries per column = 40 x 40 data size."
   ]
  },
  {
   "cell_type": "markdown",
   "metadata": {},
   "source": [
    "> Earlier, we mentioned the use of numpy for basic mathematical functions. Here's an example of that. We display the maximum, minimum, mean and standard deviation of the salinity and depth values from our first core dataset. \n",
    "**To double check, uncomment the \"print\" line and see what the values are for \"s2c1\".**"
   ]
  },
  {
   "cell_type": "code",
   "execution_count": 15,
   "metadata": {},
   "outputs": [
    {
     "data": {
      "text/plain": [
       "(6.3, 3.2, 4.285, 0.7754192414429757)"
      ]
     },
     "execution_count": 15,
     "metadata": {},
     "output_type": "execute_result"
    }
   ],
   "source": [
    "np.max(s2c1.salinity_ppt),np.min(s2c1.salinity_ppt),np.mean(s2c1.salinity_ppt),np.std(s2c1.salinity_ppt)"
   ]
  },
  {
   "cell_type": "code",
   "execution_count": 16,
   "metadata": {},
   "outputs": [
    {
     "data": {
      "text/plain": [
       "(200, 10, 105.0, 57.66281297335398)"
      ]
     },
     "execution_count": 16,
     "metadata": {},
     "output_type": "execute_result"
    }
   ],
   "source": [
    "np.max(s2c1.depth_cm),np.min(s2c1.depth_cm),np.mean(s2c1.depth_cm),np.std(s2c1.depth_cm)"
   ]
  },
  {
   "cell_type": "code",
   "execution_count": 17,
   "metadata": {},
   "outputs": [],
   "source": [
    "#print(s2c1)"
   ]
  }
 ],
 "metadata": {
  "kernelspec": {
   "display_name": "Python 3",
   "language": "python",
   "name": "python3"
  },
  "language_info": {
   "codemirror_mode": {
    "name": "ipython",
    "version": 3
   },
   "file_extension": ".py",
   "mimetype": "text/x-python",
   "name": "python",
   "nbconvert_exporter": "python",
   "pygments_lexer": "ipython3",
   "version": "3.8.5"
  }
 },
 "nbformat": 4,
 "nbformat_minor": 4
}
